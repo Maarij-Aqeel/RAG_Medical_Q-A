{
 "cells": [
  {
   "cell_type": "markdown",
   "id": "ceda6df4-8c8b-4c2d-baeb-cdd8e3ee5704",
   "metadata": {},
   "source": [
    "# **Main Components of RAG (Retrieval-Augmented Generation)**\n",
    "\n",
    "A RAG system consists of **three major components**:\n",
    "\n",
    "---\n",
    "\n",
    "## 1. **Indexing**\n",
    "\n",
    "The indexing pipeline loads, processes, and stores data for future retrieval. This step is typically done **once**.\n",
    "It can be broken down into four key stages:\n",
    "\n",
    "- **Loading Data** – Reading raw documents (e.g., PDFs, web pages, etc.)\n",
    "- **Splitting Data** – Breaking the content into manageable chunks\n",
    "- **Embedding Data** – Converting text into vector representations using embedding models\n",
    "- **Storing Data** – Saving the embeddings in a vector store for fast retrieval\n",
    "\n",
    "---\n",
    "\n",
    "## 2. **Retrieval**\n",
    "\n",
    "Given a **user query**, this component:\n",
    "\n",
    "- Searches the vector store\n",
    "- Retrieves the **most relevant document chunks** based on similarity\n",
    "\n",
    "---\n",
    "\n",
    "## 3. **Generation**\n",
    "\n",
    "The retrieved context is passed to a **language model**, which:\n",
    "\n",
    "- Generates a complete, helpful, and coherent answer\n",
    "- Uses the retrieved documents to **ground** the response\n",
    "\n",
    "---\n",
    "\n",
    "> **Note:** Only the **retrieval and generation** steps are performed during runtime. Indexing is a one-time setup unless your data changes.\n",
    "\n"
   ]
  },
  {
   "cell_type": "code",
   "execution_count": 1,
   "id": "b33e902c-8f9a-4094-a1ab-ed862a156ddd",
   "metadata": {},
   "outputs": [],
   "source": [
    "from IPython.display import display\n",
    "from IPython.display import Markdown\n",
    "import textwrap\n",
    "from langchain.document_loaders import PyPDFLoader\n",
    "from langchain.text_splitter import RecursiveCharacterTextSplitter"
   ]
  },
  {
   "cell_type": "code",
   "execution_count": 2,
   "id": "90e82513-4a4a-4a2b-a9ba-e6f2fbff025c",
   "metadata": {},
   "outputs": [],
   "source": [
    "from langchain_google_genai import GoogleGenerativeAI\n",
    "from langchain_google_genai import GoogleGenerativeAIEmbeddings\n",
    "from langchain_google_genai import ChatGoogleGenerativeAI"
   ]
  },
  {
   "cell_type": "code",
   "execution_count": 3,
   "id": "d13c7396-33d9-4929-b399-e81886ac5388",
   "metadata": {},
   "outputs": [],
   "source": [
    "import chromadb"
   ]
  },
  {
   "cell_type": "code",
   "execution_count": 4,
   "id": "12719549-d0ff-4f58-bc0c-341cd2984258",
   "metadata": {},
   "outputs": [],
   "source": [
    "# Loading the Api\n",
    "with open('./api.txt','r') as file:\n",
    "    API_KEY=file.read().strip()\n"
   ]
  },
  {
   "cell_type": "code",
   "execution_count": 11,
   "id": "36e65af5-2c63-459a-a6ab-e2c2dc17bf1c",
   "metadata": {},
   "outputs": [],
   "source": [
    "class Indexing:\n",
    "    def __init__(self, pdf_path, embedding_model_class, api_key):\n",
    "        self.pdf_paths = pdf_path\n",
    "        self.embedding_model_class = embedding_model_class\n",
    "        self.api_key = api_key\n",
    "\n",
    "    def load_pdf(self):\n",
    "        self.pages=[]\n",
    "        for path in self.pdf_paths:\n",
    "            pdfloader = PyPDFLoader(path)\n",
    "            self.pages.extend(pdfloader.load_and_split())\n",
    "\n",
    "    def split_data(self, chunk_size, chunk_overlap):\n",
    "        text_splitter = RecursiveCharacterTextSplitter(chunk_size=chunk_size, chunk_overlap=chunk_overlap)\n",
    "        content = \"\\n\\n\".join(str(p.page_content) for p in self.pages)\n",
    "        self.texts = text_splitter.split_text(content)\n",
    "\n",
    "    def store_data(self, path, name):\n",
    "        # Custom Wrapper\n",
    "        class LangChainEmbeddingFunction:\n",
    "            def __init__(self, langchain_embedder):\n",
    "                self.langchain_embedder = langchain_embedder\n",
    "\n",
    "            def __call__(self, input):\n",
    "                return self.langchain_embedder.embed_documents(input)\n",
    "\n",
    "        embedder = self.embedding_model_class(model=\"models/embedding-001\", google_api_key=self.api_key)\n",
    "        embedding_function = LangChainEmbeddingFunction(embedder)\n",
    "\n",
    "        chroma_client = chromadb.PersistentClient(path=path)\n",
    "\n",
    "        try:\n",
    "            chroma_client.delete_collection(name=name)\n",
    "        except:\n",
    "            pass    \n",
    "        db = chroma_client.create_collection(name=name, embedding_function=embedding_function)\n",
    "\n",
    "        for i, d in enumerate(self.texts):\n",
    "            db.add(documents=[d], ids=[str(i)])\n",
    "\n",
    "        self.db_path = path\n",
    "        self.path = path  \n",
    "        self.name = name\n",
    "\n",
    "    def load_db_data_(self):\n",
    "        class LangChainEmbeddingFunction:\n",
    "            def __init__(self, langchain_embedder):\n",
    "                self.langchain_embedder = langchain_embedder\n",
    "\n",
    "            def __call__(self, input):\n",
    "                return self.langchain_embedder.embed_documents(input)\n",
    "\n",
    "        embedder = self.embedding_model_class(model=\"models/embedding-001\", google_api_key=self.api_key)\n",
    "        embedding_function = LangChainEmbeddingFunction(embedder)\n",
    "\n",
    "        chroma_client = chromadb.PersistentClient(path=self.path)\n",
    "        db = chroma_client.get_collection(name=self.name, embedding_function=embedding_function)\n",
    "        return db"
   ]
  },
  {
   "cell_type": "code",
   "execution_count": 12,
   "id": "fa7715ea-8293-4eef-a662-b4dd540c5992",
   "metadata": {},
   "outputs": [],
   "source": [
    "def get_relevant_data(query,db ,n_results):\n",
    "    results = db.query(query_texts=[query], n_results=n_results)\n",
    "    return results[\"documents\"][0]\n"
   ]
  },
  {
   "cell_type": "code",
   "execution_count": 13,
   "id": "af913f3d-e587-44d6-b51f-410d573ab101",
   "metadata": {},
   "outputs": [],
   "source": [
    "class Generation():\n",
    "    def __init__(self,llm):\n",
    "        self.llm=llm\n",
    "    def make_prompt(self,query,passage):\n",
    "        esc=passage.replace(\"'\",\"\").replace('\"', \"\").replace(\"\\n\", \" \")\n",
    "        prompt = (\"\"\"You are a helpful and informative bot that answers questions using text from the reference passage included below.\\\n",
    "              Be sure to respond in a complete sentence, being comprehensive, including all relevant background information. \\\n",
    "          However, you are talking to a non-technical audience, so be sure to break down complicated concepts and \\\n",
    "          strike a friendly and converstional tone. \\\n",
    "          If the passage is irrelevant to the answer, you may ignore it.\n",
    "          QUESTION: '{query}'\n",
    "          PASSAGE: '{esc}'\n",
    "        \n",
    "          ANSWER:\n",
    "          \"\"\").format(query=query, esc=esc)\n",
    "        \n",
    "        self.prompt=prompt\n",
    "    def generate_answer(self,db,query,n_results=3):\n",
    "        relevant_text=get_relevant_data(query,db,n_results)\n",
    "        self.make_prompt(query,passage=' '.join(relevant_text))\n",
    "        answer=self.llm.invoke(self.prompt)\n",
    "        return answer"
   ]
  },
  {
   "cell_type": "code",
   "execution_count": 14,
   "id": "45947da7-8ba6-4e0d-9848-e6f2230c0ffa",
   "metadata": {},
   "outputs": [],
   "source": [
    "index_model=Indexing(['./cancer_and_cure__a_critical_analysis.27.pdf','./medical_oncology_handbook_june_2020_edition.pdf'],GoogleGenerativeAIEmbeddings,API_KEY)\n",
    "index_model.load_pdf()"
   ]
  },
  {
   "cell_type": "code",
   "execution_count": 15,
   "id": "00a36cd8-e41f-4078-b8a1-ec9068d871b0",
   "metadata": {},
   "outputs": [],
   "source": [
    "index_model.split_data(5000,1000)"
   ]
  },
  {
   "cell_type": "code",
   "execution_count": 16,
   "id": "8bc17e7b-ed73-48f7-b28a-80f8f636dca4",
   "metadata": {},
   "outputs": [],
   "source": [
    "index_model.store_data('./new_db/','database_medi')\n",
    "db=index_model.load_db_data_()"
   ]
  },
  {
   "cell_type": "code",
   "execution_count": 17,
   "id": "465b15ee-de97-4ac2-bcc4-87b7546d9f22",
   "metadata": {},
   "outputs": [],
   "source": [
    "llm=GoogleGenerativeAI(model='gemini-2.0-flash',api_key=API_KEY,temperature=0.3)"
   ]
  },
  {
   "cell_type": "code",
   "execution_count": 18,
   "id": "9b23f076-ffc2-469d-8e49-207b3d89bc70",
   "metadata": {},
   "outputs": [],
   "source": [
    "qa=Generation(llm)"
   ]
  },
  {
   "cell_type": "code",
   "execution_count": 19,
   "id": "38e259fb-f9a5-495d-9f80-bdc57b323d7e",
   "metadata": {},
   "outputs": [],
   "source": [
    "query='what are the common side effects of systemic therapeutic agents?'\n",
    "answer=qa.generate_answer(db,query)"
   ]
  },
  {
   "cell_type": "code",
   "execution_count": 20,
   "id": "0378635d-5e66-4000-ba5e-7236b42d6e3d",
   "metadata": {},
   "outputs": [
    {
     "data": {
      "text/markdown": [
       "Common side effects of systemic therapeutic agents include issues like cardiac dysfunction with Adriamycin/Epirubicin, lung problems with Bleomycin, and kidney issues, nerve damage, and hearing loss with Cisplatin. Carboplatin doses need adjustment based on kidney function, while 5-FU can cause severe diarrhea and heart issues. Gemcitabine may lead to lung inflammation and swelling, Irinotecan can cause diarrhea and flushing, and Taxol/Paclitaxel can result in nerve damage and flu-like symptoms. Taxotere/Docetaxel can cause liver issues, swelling, nerve damage, and rash, while Oxaliplatin may lead to cold-induced nerve issues and spasms. Cyclophosphamide/Ifosfamide can affect kidney function and cause confusion, Capecitabine can cause mouth sores, hand-foot syndrome, rash, angina, and diarrhea, and Trastuzumab can affect heart function. Cetuximab/Panitumumab often cause an acne-like rash, Methotrexate requires folinic acid to mitigate its effects, and Caelyx/Liposomal doxorubicin can cause rash, hand-foot syndrome, and heart issues. Avastin/Bevacizumab may lead to high blood pressure and protein in the urine, Denosumab can cause low calcium levels, Dabrafenib may cause fever, rash, and skin cancers, and Mekinist is often combined with Dabrafenib to reduce the risk of skin cancer. Zolendronic acid can affect kidney function and calcium levels, and checkpoint inhibitors can cause autoimmune issues. Alopecia is also a common side effect with certain medications like those used in breast, ovarian, sarcoma, small cell lung cancer, and testicular regimens."
      ],
      "text/plain": [
       "<IPython.core.display.Markdown object>"
      ]
     },
     "execution_count": 20,
     "metadata": {},
     "output_type": "execute_result"
    }
   ],
   "source": [
    "Markdown(answer)"
   ]
  },
  {
   "cell_type": "code",
   "execution_count": null,
   "id": "f6210e76-2837-472e-83d9-4435f6db49e9",
   "metadata": {},
   "outputs": [],
   "source": []
  }
 ],
 "metadata": {
  "kernelspec": {
   "display_name": "Python 3 (ipykernel)",
   "language": "python",
   "name": "python3"
  },
  "language_info": {
   "codemirror_mode": {
    "name": "ipython",
    "version": 3
   },
   "file_extension": ".py",
   "mimetype": "text/x-python",
   "name": "python",
   "nbconvert_exporter": "python",
   "pygments_lexer": "ipython3",
   "version": "3.12.3"
  }
 },
 "nbformat": 4,
 "nbformat_minor": 5
}
